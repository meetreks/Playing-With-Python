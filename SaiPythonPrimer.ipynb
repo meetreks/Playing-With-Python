{
  "nbformat": 4,
  "nbformat_minor": 0,
  "metadata": {
    "colab": {
      "name": "SaiPythonPrimer.ipynb",
      "version": "0.3.2",
      "provenance": [],
      "collapsed_sections": [],
      "include_colab_link": true
    },
    "kernelspec": {
      "name": "python3",
      "display_name": "Python 3"
    }
  },
  "cells": [
    {
      "cell_type": "markdown",
      "metadata": {
        "id": "view-in-github",
        "colab_type": "text"
      },
      "source": [
        "<a href=\"https://colab.research.google.com/github/meetreks/Playing-With-Python/blob/master/SaiPythonPrimer.ipynb\" target=\"_parent\"><img src=\"https://colab.research.google.com/assets/colab-badge.svg\" alt=\"Open In Colab\"/></a>"
      ]
    },
    {
      "cell_type": "code",
      "metadata": {
        "id": "-clB57mfs9b7",
        "colab_type": "code",
        "colab": {}
      },
      "source": [
        "players = [\"sai\",\"ram\",\"sai sai\",\"ram ram\"]"
      ],
      "execution_count": 0,
      "outputs": []
    },
    {
      "cell_type": "code",
      "metadata": {
        "id": "ZDoEWejtvFQ9",
        "colab_type": "code",
        "colab": {}
      },
      "source": [
        "players[1]"
      ],
      "execution_count": 0,
      "outputs": []
    },
    {
      "cell_type": "code",
      "metadata": {
        "id": "4jvjav0AvPxG",
        "colab_type": "code",
        "colab": {}
      },
      "source": [
        "players[0:]"
      ],
      "execution_count": 0,
      "outputs": []
    },
    {
      "cell_type": "code",
      "metadata": {
        "id": "wwt3nrR3veAQ",
        "colab_type": "code",
        "colab": {}
      },
      "source": [
        "players()"
      ],
      "execution_count": 0,
      "outputs": []
    },
    {
      "cell_type": "code",
      "metadata": {
        "id": "uP-Zl72ovgjg",
        "colab_type": "code",
        "colab": {}
      },
      "source": [
        "players(0:)"
      ],
      "execution_count": 0,
      "outputs": []
    },
    {
      "cell_type": "code",
      "metadata": {
        "id": "ijOQvQoivkOh",
        "colab_type": "code",
        "colab": {}
      },
      "source": [
        "players.append(\"Om Sai Ram\")"
      ],
      "execution_count": 0,
      "outputs": []
    },
    {
      "cell_type": "code",
      "metadata": {
        "id": "P0911wtTwl1c",
        "colab_type": "code",
        "colab": {}
      },
      "source": [
        "days = ('Sun', 'Mon', 'Tue', 'Wed', 'Thu', 'Fri', 'Sat')"
      ],
      "execution_count": 0,
      "outputs": []
    },
    {
      "cell_type": "code",
      "metadata": {
        "id": "jVewfbJVw9Sb",
        "colab_type": "code",
        "colab": {}
      },
      "source": [
        "days"
      ],
      "execution_count": 0,
      "outputs": []
    },
    {
      "cell_type": "code",
      "metadata": {
        "id": "UwnoDul8w_fo",
        "colab_type": "code",
        "colab": {}
      },
      "source": [
        "days(3)"
      ],
      "execution_count": 0,
      "outputs": []
    },
    {
      "cell_type": "code",
      "metadata": {
        "id": "8DrpMlAzxF4o",
        "colab_type": "code",
        "colab": {}
      },
      "source": [
        "days[3]"
      ],
      "execution_count": 0,
      "outputs": []
    },
    {
      "cell_type": "code",
      "metadata": {
        "id": "7uw2TdGrxHsB",
        "colab_type": "code",
        "colab": {}
      },
      "source": [
        "#Lists are Mutable meaning they can be appended, deleted and modified\n",
        "#Tuples are immutable list "
      ],
      "execution_count": 0,
      "outputs": []
    },
    {
      "cell_type": "code",
      "metadata": {
        "id": "NPFjQa5yxzC2",
        "colab_type": "code",
        "outputId": "b364eaf9-5e33-41cf-91cb-a86c6ba4f6a3",
        "colab": {
          "base_uri": "https://localhost:8080/",
          "height": 35
        }
      },
      "source": [
        "#Dictonaries are Key Value Pairs\n",
        "dicti = {\"Sai\":123, \"Ram\": 456}\n",
        "dicti.keys"
      ],
      "execution_count": 0,
      "outputs": [
        {
          "output_type": "execute_result",
          "data": {
            "text/plain": [
              "<function dict.keys>"
            ]
          },
          "metadata": {
            "tags": []
          },
          "execution_count": 13
        }
      ]
    },
    {
      "cell_type": "code",
      "metadata": {
        "id": "2bnD5_PzAbdL",
        "colab_type": "code",
        "colab": {}
      },
      "source": [
        "\"Sai\" in dicti"
      ],
      "execution_count": 0,
      "outputs": []
    },
    {
      "cell_type": "code",
      "metadata": {
        "id": "77ad53NZAjJ-",
        "colab_type": "code",
        "colab": {}
      },
      "source": [
        "#list comprension\n",
        "cubes = [y**3 for y in range(7)]\n",
        "cubes"
      ],
      "execution_count": 0,
      "outputs": []
    },
    {
      "cell_type": "code",
      "metadata": {
        "id": "ZL9V7Sf_Aog-",
        "colab_type": "code",
        "colab": {}
      },
      "source": [
        "evencubes = [y for y in cubes if y%2 == 0]\n",
        "evencubes"
      ],
      "execution_count": 0,
      "outputs": []
    },
    {
      "cell_type": "code",
      "metadata": {
        "id": "H8vNWSC4B121",
        "colab_type": "code",
        "colab": {}
      },
      "source": [
        "nestedcubes = [y for y in (y**3 for y in range(7)) if y%2==0 ]"
      ],
      "execution_count": 0,
      "outputs": []
    },
    {
      "cell_type": "code",
      "metadata": {
        "id": "22rFKqAWCLXM",
        "colab_type": "code",
        "colab": {}
      },
      "source": [
        "evencubes == nestedcubes"
      ],
      "execution_count": 0,
      "outputs": []
    },
    {
      "cell_type": "code",
      "metadata": {
        "id": "5BNpLXJECjDT",
        "colab_type": "code",
        "colab": {}
      },
      "source": [
        "import numpy as np"
      ],
      "execution_count": 0,
      "outputs": []
    },
    {
      "cell_type": "code",
      "metadata": {
        "id": "dqX7mQ8DD0LI",
        "colab_type": "code",
        "colab": {}
      },
      "source": [
        "np.array()"
      ],
      "execution_count": 0,
      "outputs": []
    },
    {
      "cell_type": "code",
      "metadata": {
        "id": "XVr0e83uD2xS",
        "colab_type": "code",
        "colab": {}
      },
      "source": [
        "np.array(7)"
      ],
      "execution_count": 0,
      "outputs": []
    },
    {
      "cell_type": "code",
      "metadata": {
        "id": "HV61rAT4D47x",
        "colab_type": "code",
        "colab": {}
      },
      "source": [
        "x = np.array(7)"
      ],
      "execution_count": 0,
      "outputs": []
    },
    {
      "cell_type": "code",
      "metadata": {
        "id": "XD3DHeeCD7qN",
        "colab_type": "code",
        "colab": {}
      },
      "source": [
        "x"
      ],
      "execution_count": 0,
      "outputs": []
    },
    {
      "cell_type": "code",
      "metadata": {
        "id": "wARJpGeSD8eb",
        "colab_type": "code",
        "colab": {}
      },
      "source": [
        "help numpy"
      ],
      "execution_count": 0,
      "outputs": []
    },
    {
      "cell_type": "code",
      "metadata": {
        "id": "zkMql5VYEGPh",
        "colab_type": "code",
        "colab": {}
      },
      "source": [
        "help('numpy')"
      ],
      "execution_count": 0,
      "outputs": []
    },
    {
      "cell_type": "code",
      "metadata": {
        "id": "KpbtYnJSEL7W",
        "colab_type": "code",
        "colab": {}
      },
      "source": [
        "help('numpy.array')"
      ],
      "execution_count": 0,
      "outputs": []
    },
    {
      "cell_type": "code",
      "metadata": {
        "id": "B0cgLUv9Ec3_",
        "colab_type": "code",
        "outputId": "1bb2c123-8b69-4a25-941d-7a48bdaa5051",
        "colab": {
          "base_uri": "https://localhost:8080/",
          "height": 35
        }
      },
      "source": [
        "x.dtype"
      ],
      "execution_count": 0,
      "outputs": [
        {
          "output_type": "execute_result",
          "data": {
            "text/plain": [
              "dtype('int64')"
            ]
          },
          "metadata": {
            "tags": []
          },
          "execution_count": 31
        }
      ]
    },
    {
      "cell_type": "code",
      "metadata": {
        "id": "6K-XEjruEsrR",
        "colab_type": "code",
        "colab": {}
      },
      "source": [
        "ls = [2,4,6]\n",
        "a1 = np.array(ls)\n",
        "a1"
      ],
      "execution_count": 0,
      "outputs": []
    },
    {
      "cell_type": "code",
      "metadata": {
        "id": "Qjh8eZSPGM0C",
        "colab_type": "code",
        "colab": {}
      },
      "source": [
        "type(a1)"
      ],
      "execution_count": 0,
      "outputs": []
    },
    {
      "cell_type": "code",
      "metadata": {
        "id": "1EcAvXBfGkpy",
        "colab_type": "code",
        "outputId": "fc831d50-0ccc-4d5b-d63f-6d2b2ef49c9b",
        "colab": {
          "base_uri": "https://localhost:8080/",
          "height": 35
        }
      },
      "source": [
        "#anything on np is a object of ndarray class.\n",
        "a1.ndim"
      ],
      "execution_count": 0,
      "outputs": [
        {
          "output_type": "execute_result",
          "data": {
            "text/plain": [
              "1"
            ]
          },
          "metadata": {
            "tags": []
          },
          "execution_count": 34
        }
      ]
    },
    {
      "cell_type": "code",
      "metadata": {
        "id": "D76BG559Gz20",
        "colab_type": "code",
        "colab": {}
      },
      "source": [
        "a1.shape"
      ],
      "execution_count": 0,
      "outputs": []
    },
    {
      "cell_type": "code",
      "metadata": {
        "id": "1iYbwM4NG1-o",
        "colab_type": "code",
        "outputId": "859f2ce6-839c-4a17-f153-3f723d5a2d3d",
        "colab": {
          "base_uri": "https://localhost:8080/",
          "height": 35
        }
      },
      "source": [
        "a1.itemsize"
      ],
      "execution_count": 0,
      "outputs": [
        {
          "output_type": "execute_result",
          "data": {
            "text/plain": [
              "8"
            ]
          },
          "metadata": {
            "tags": []
          },
          "execution_count": 36
        }
      ]
    },
    {
      "cell_type": "code",
      "metadata": {
        "id": "uUINtTICHFda",
        "colab_type": "code",
        "colab": {}
      },
      "source": [
        "a1[-1]"
      ],
      "execution_count": 0,
      "outputs": []
    },
    {
      "cell_type": "code",
      "metadata": {
        "id": "ezn7F1kOHwi6",
        "colab_type": "code",
        "colab": {}
      },
      "source": [
        "a1[-2]"
      ],
      "execution_count": 0,
      "outputs": []
    },
    {
      "cell_type": "code",
      "metadata": {
        "id": "bX_4ASx2Hzl-",
        "colab_type": "code",
        "colab": {}
      },
      "source": [
        "a2 = np.array([(2,4,6),(8,10,12),(14,16,18)])\n",
        "a2"
      ],
      "execution_count": 0,
      "outputs": []
    },
    {
      "cell_type": "code",
      "metadata": {
        "id": "kU6D5gFfIY_M",
        "colab_type": "code",
        "colab": {}
      },
      "source": [
        "a3 = a2[0:2,0:2]\n",
        "a3"
      ],
      "execution_count": 0,
      "outputs": []
    },
    {
      "cell_type": "code",
      "metadata": {
        "id": "byOpgKntIhmZ",
        "colab_type": "code",
        "colab": {}
      },
      "source": [
        "a4=a2.reshape(1,4)"
      ],
      "execution_count": 0,
      "outputs": []
    },
    {
      "cell_type": "code",
      "metadata": {
        "id": "j8zikpF6Ir9_",
        "colab_type": "code",
        "colab": {}
      },
      "source": [
        "f = np.ones((5,5), dtype=np.int64)\n",
        "f"
      ],
      "execution_count": 0,
      "outputs": []
    },
    {
      "cell_type": "code",
      "metadata": {
        "id": "oYMEFuCAJRgz",
        "colab_type": "code",
        "colab": {}
      },
      "source": [
        "import pandas as pd"
      ],
      "execution_count": 0,
      "outputs": []
    },
    {
      "cell_type": "code",
      "metadata": {
        "id": "fCr9V40xKqd7",
        "colab_type": "code",
        "colab": {}
      },
      "source": [
        "help('pandas.read_csv')\n",
        "#read & write csv\n",
        "#read and wirte excel\n",
        "#read and write sql\n",
        "#read and write JSON"
      ],
      "execution_count": 0,
      "outputs": []
    },
    {
      "cell_type": "code",
      "metadata": {
        "id": "535StGVAK-6H",
        "colab_type": "code",
        "outputId": "e7fee651-55a8-4bde-cc12-7f05934f6126",
        "colab": {
          "resources": {
            "http://localhost:8080/nbextensions/google.colab/files.js": {
              "data": "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",
              "ok": true,
              "headers": [
                [
                  "content-type",
                  "application/javascript"
                ]
              ],
              "status": 200,
              "status_text": ""
            }
          },
          "base_uri": "https://localhost:8080/",
          "height": 75
        }
      },
      "source": [
        "from google.colab import files\n",
        "uploaded = files.upload()"
      ],
      "execution_count": 0,
      "outputs": [
        {
          "output_type": "display_data",
          "data": {
            "text/html": [
              "\n",
              "     <input type=\"file\" id=\"files-23ee8a55-e0fc-49ad-9a3d-2d42fc947f9d\" name=\"files[]\" multiple disabled />\n",
              "     <output id=\"result-23ee8a55-e0fc-49ad-9a3d-2d42fc947f9d\">\n",
              "      Upload widget is only available when the cell has been executed in the\n",
              "      current browser session. Please rerun this cell to enable.\n",
              "      </output>\n",
              "      <script src=\"/nbextensions/google.colab/files.js\"></script> "
            ],
            "text/plain": [
              "<IPython.core.display.HTML object>"
            ]
          },
          "metadata": {
            "tags": []
          }
        },
        {
          "output_type": "stream",
          "text": [
            "Saving train.csv to train.csv\n"
          ],
          "name": "stdout"
        }
      ]
    },
    {
      "cell_type": "code",
      "metadata": {
        "id": "emRM7vsYNTSQ",
        "colab_type": "code",
        "colab": {}
      },
      "source": [
        "hd = pd.read_csv('train.csv')"
      ],
      "execution_count": 0,
      "outputs": []
    },
    {
      "cell_type": "code",
      "metadata": {
        "id": "YJAt5ztrTAz6",
        "colab_type": "code",
        "colab": {}
      },
      "source": [
        "hd.head()"
      ],
      "execution_count": 0,
      "outputs": []
    },
    {
      "cell_type": "code",
      "metadata": {
        "id": "Xqo5Rs9odxfR",
        "colab_type": "code",
        "colab": {}
      },
      "source": [
        "d = {\"class\": pd.Series([\"Iris-virginica\"]),\"petal_lenght\": pd.Series([5.1,5.9]),\"petal_width\": pd.Series([1.8,2.3])}"
      ],
      "execution_count": 0,
      "outputs": []
    },
    {
      "cell_type": "code",
      "metadata": {
        "id": "oZujR3kFgxE2",
        "colab_type": "code",
        "colab": {}
      },
      "source": [
        "df = pd.DataFrame(d)"
      ],
      "execution_count": 0,
      "outputs": []
    },
    {
      "cell_type": "code",
      "metadata": {
        "id": "-iQPDYWTgx9y",
        "colab_type": "code",
        "colab": {}
      },
      "source": [
        "df.to_csv('newtrain.csv', index=False)"
      ],
      "execution_count": 0,
      "outputs": []
    },
    {
      "cell_type": "code",
      "metadata": {
        "id": "6IZCj0TfhQyp",
        "colab_type": "code",
        "colab": {}
      },
      "source": [
        "#fillna method of pandas us used to fill NaN values with desired values\n",
        "from sklearn import d\n"
      ],
      "execution_count": 0,
      "outputs": []
    },
    {
      "cell_type": "code",
      "metadata": {
        "id": "ztXOCvVUkVfK",
        "colab_type": "code",
        "colab": {}
      },
      "source": [
        "d = {'Item1': pd.DataFrame(np.random.randn(4,3)),'Item2': pd.DataFrame(np.random.randn(4,3))}"
      ],
      "execution_count": 0,
      "outputs": []
    },
    {
      "cell_type": "code",
      "metadata": {
        "id": "32wPoZLmJfOB",
        "colab_type": "code",
        "colab": {}
      },
      "source": [
        "pd.Panel(d)"
      ],
      "execution_count": 0,
      "outputs": []
    },
    {
      "cell_type": "code",
      "metadata": {
        "id": "0H2Kg-EYKJBv",
        "colab_type": "code",
        "outputId": "c60c0d58-2589-4e70-be4a-1e18b9e2b263",
        "colab": {
          "base_uri": "https://localhost:8080/",
          "height": 53
        }
      },
      "source": [
        "list1 = [['blue','blue','red','red','green','green'],['true','false','true','false','true','false']]\n",
        "list1"
      ],
      "execution_count": 0,
      "outputs": [
        {
          "output_type": "execute_result",
          "data": {
            "text/plain": [
              "[['blue', 'blue', 'red', 'red', 'green', 'green'],\n",
              " ['true', 'false', 'true', 'false', 'true', 'false']]"
            ]
          },
          "metadata": {
            "tags": []
          },
          "execution_count": 14
        }
      ]
    },
    {
      "cell_type": "code",
      "metadata": {
        "id": "VyN9GB7rwlTA",
        "colab_type": "code",
        "colab": {}
      },
      "source": [
        "myind = pd.MultiIndex.from_arrays(list1, names=['Item1', 'Item2'])"
      ],
      "execution_count": 0,
      "outputs": []
    },
    {
      "cell_type": "code",
      "metadata": {
        "id": "Us-2wW07w3oj",
        "colab_type": "code",
        "outputId": "4a194097-a6e6-4b7f-ce71-6ccccf987fa4",
        "colab": {
          "base_uri": "https://localhost:8080/",
          "height": 71
        }
      },
      "source": [
        "myind"
      ],
      "execution_count": 0,
      "outputs": [
        {
          "output_type": "execute_result",
          "data": {
            "text/plain": [
              "MultiIndex(levels=[['blue', 'green', 'red'], ['false', 'true']],\n",
              "           codes=[[0, 0, 2, 2, 1, 1], [1, 0, 1, 0, 1, 0]],\n",
              "           names=['Item1', 'Item2'])"
            ]
          },
          "metadata": {
            "tags": []
          },
          "execution_count": 16
        }
      ]
    },
    {
      "cell_type": "code",
      "metadata": {
        "id": "HZbHj61-w6bP",
        "colab_type": "code",
        "outputId": "094cc9c8-3b2f-45c8-f21c-44e6273521b6",
        "colab": {
          "base_uri": "https://localhost:8080/",
          "height": 35
        }
      },
      "source": [
        "type(_)"
      ],
      "execution_count": 0,
      "outputs": [
        {
          "output_type": "execute_result",
          "data": {
            "text/plain": [
              "pandas.core.indexes.multi.MultiIndex"
            ]
          },
          "metadata": {
            "tags": []
          },
          "execution_count": 17
        }
      ]
    },
    {
      "cell_type": "code",
      "metadata": {
        "id": "fnfcUHsJzeUy",
        "colab_type": "code",
        "colab": {}
      },
      "source": [
        "myser = pd.Series(np.random.rand(6), index=myind)"
      ],
      "execution_count": 0,
      "outputs": []
    },
    {
      "cell_type": "code",
      "metadata": {
        "id": "KrX-o37OxJIw",
        "colab_type": "code",
        "outputId": "14adf855-aad1-4e07-bfde-593570b4e93c",
        "colab": {
          "base_uri": "https://localhost:8080/",
          "height": 35
        }
      },
      "source": [
        "myser['red','true']"
      ],
      "execution_count": 0,
      "outputs": [
        {
          "output_type": "execute_result",
          "data": {
            "text/plain": [
              "0.7372017934508108"
            ]
          },
          "metadata": {
            "tags": []
          },
          "execution_count": 13
        }
      ]
    },
    {
      "cell_type": "code",
      "metadata": {
        "id": "9bEE-ze_x4Zv",
        "colab_type": "code",
        "colab": {}
      },
      "source": [
        "help('pandas.merge')"
      ],
      "execution_count": 0,
      "outputs": []
    },
    {
      "cell_type": "code",
      "metadata": {
        "id": "WOmZ-p47NZgu",
        "colab_type": "code",
        "colab": {}
      },
      "source": [
        "df1 = pd.DataFrame({'lkey': ['foo', 'bar', 'baz', 'foo'],'value': [1, 2, 3, 5]})\n",
        "                        \n",
        "df2 = pd.DataFrame({'rkey': ['foo', 'bar', 'baz', 'foo'],'value': [5, 6, 7, 8]})"
      ],
      "execution_count": 0,
      "outputs": []
    },
    {
      "cell_type": "code",
      "metadata": {
        "id": "OgDi9-2XN6xn",
        "colab_type": "code",
        "colab": {}
      },
      "source": [
        "df1.merge(df2, left_on='lkey', right_on='rkey')"
      ],
      "execution_count": 0,
      "outputs": []
    },
    {
      "cell_type": "code",
      "metadata": {
        "id": "etsWtGbGOD4s",
        "colab_type": "code",
        "colab": {}
      },
      "source": [
        "import scipy"
      ],
      "execution_count": 0,
      "outputs": []
    },
    {
      "cell_type": "code",
      "metadata": {
        "id": "3p68dnKmSgzY",
        "colab_type": "code",
        "colab": {}
      },
      "source": [
        "help('scipy')"
      ],
      "execution_count": 0,
      "outputs": []
    },
    {
      "cell_type": "code",
      "metadata": {
        "id": "WZ7MEzmLTMEr",
        "colab_type": "code",
        "outputId": "3470e5de-479a-40ca-9329-3088e2aef310",
        "colab": {
          "base_uri": "https://localhost:8080/",
          "height": 35
        }
      },
      "source": [
        "age = 42\n",
        "id(age)"
      ],
      "execution_count": 0,
      "outputs": [
        {
          "output_type": "execute_result",
          "data": {
            "text/plain": [
              "10970112"
            ]
          },
          "metadata": {
            "tags": []
          },
          "execution_count": 1
        }
      ]
    },
    {
      "cell_type": "code",
      "metadata": {
        "id": "8G3r6rrAOTCG",
        "colab_type": "code",
        "outputId": "b4cefcb4-128b-4658-a66b-8e642eb0d68a",
        "colab": {
          "base_uri": "https://localhost:8080/",
          "height": 35
        }
      },
      "source": [
        "age=43\n",
        "id(age)"
      ],
      "execution_count": 0,
      "outputs": [
        {
          "output_type": "execute_result",
          "data": {
            "text/plain": [
              "10970144"
            ]
          },
          "metadata": {
            "tags": []
          },
          "execution_count": 2
        }
      ]
    },
    {
      "cell_type": "code",
      "metadata": {
        "id": "WJmIfltmOVoD",
        "colab_type": "code",
        "outputId": "36d1712b-9861-4248-f54e-fb464cff3f8d",
        "colab": {
          "base_uri": "https://localhost:8080/",
          "height": 55
        }
      },
      "source": [
        "2 ** 1024"
      ],
      "execution_count": 0,
      "outputs": [
        {
          "output_type": "execute_result",
          "data": {
            "text/plain": [
              "179769313486231590772930519078902473361797697894230657273430081157732675805500963132708477322407536021120113879871393357658789768814416622492847430639474124377767893424865485276302219601246094119453082952085005768838150682342462881473913110540827237163350510684586298239947245938479716304835356329624224137216"
            ]
          },
          "metadata": {
            "tags": []
          },
          "execution_count": 3
        }
      ]
    },
    {
      "cell_type": "code",
      "metadata": {
        "id": "ouLAYR91OvZ_",
        "colab_type": "code",
        "outputId": "303e5e06-c78c-4365-e438-6e54a5e55cb4",
        "colab": {
          "base_uri": "https://localhost:8080/",
          "height": 35
        }
      },
      "source": [
        "a = [1,2,3,4]\n",
        "a.append(5)\n",
        "a"
      ],
      "execution_count": 0,
      "outputs": [
        {
          "output_type": "execute_result",
          "data": {
            "text/plain": [
              "[1, 2, 3, 4, 5]"
            ]
          },
          "metadata": {
            "tags": []
          },
          "execution_count": 4
        }
      ]
    },
    {
      "cell_type": "code",
      "metadata": {
        "id": "s9KMpwpHjfvv",
        "colab_type": "code",
        "outputId": "2e7fc042-3f63-44eb-c0b7-5437a256cfc6",
        "colab": {
          "base_uri": "https://localhost:8080/",
          "height": 35
        }
      },
      "source": [
        "a.count(5)"
      ],
      "execution_count": 0,
      "outputs": [
        {
          "output_type": "execute_result",
          "data": {
            "text/plain": [
              "1"
            ]
          },
          "metadata": {
            "tags": []
          },
          "execution_count": 5
        }
      ]
    },
    {
      "cell_type": "code",
      "metadata": {
        "id": "mY-uimpEji4X",
        "colab_type": "code",
        "colab": {}
      },
      "source": [
        "a.extend([6,7])"
      ],
      "execution_count": 0,
      "outputs": []
    },
    {
      "cell_type": "code",
      "metadata": {
        "id": "U4VzwK7Qjmxh",
        "colab_type": "code",
        "outputId": "17721833-1736-4950-a882-b04046d53c1c",
        "colab": {
          "base_uri": "https://localhost:8080/",
          "height": 35
        }
      },
      "source": [
        "a"
      ],
      "execution_count": 0,
      "outputs": [
        {
          "output_type": "execute_result",
          "data": {
            "text/plain": [
              "[1, 2, 3, 4, 5, 6, 7]"
            ]
          },
          "metadata": {
            "tags": []
          },
          "execution_count": 8
        }
      ]
    },
    {
      "cell_type": "code",
      "metadata": {
        "id": "O78b0OGujumh",
        "colab_type": "code",
        "outputId": "01efa0cc-1e03-4a00-b9a2-1eb7f05a6ac6",
        "colab": {
          "base_uri": "https://localhost:8080/",
          "height": 35
        }
      },
      "source": [
        "a.index(6)"
      ],
      "execution_count": 0,
      "outputs": [
        {
          "output_type": "execute_result",
          "data": {
            "text/plain": [
              "5"
            ]
          },
          "metadata": {
            "tags": []
          },
          "execution_count": 9
        }
      ]
    },
    {
      "cell_type": "code",
      "metadata": {
        "id": "PF7E6Hgnjycj",
        "colab_type": "code",
        "colab": {}
      },
      "source": [
        "a.insert(5,6)"
      ],
      "execution_count": 0,
      "outputs": []
    },
    {
      "cell_type": "code",
      "metadata": {
        "id": "Nu87xkNRj2QG",
        "colab_type": "code",
        "outputId": "fcc8458b-834f-4cb6-ead2-7de03a37419c",
        "colab": {
          "base_uri": "https://localhost:8080/",
          "height": 35
        }
      },
      "source": [
        "a"
      ],
      "execution_count": 0,
      "outputs": [
        {
          "output_type": "execute_result",
          "data": {
            "text/plain": [
              "[1, 2, 3, 4, 5, 6, 6, 7]"
            ]
          },
          "metadata": {
            "tags": []
          },
          "execution_count": 11
        }
      ]
    },
    {
      "cell_type": "code",
      "metadata": {
        "id": "bAGSgzqQj3Mg",
        "colab_type": "code",
        "colab": {}
      },
      "source": [
        "d= {}\n",
        "d.setdefault('a', {}).setdefault('b', []).append(1)"
      ],
      "execution_count": 0,
      "outputs": []
    },
    {
      "cell_type": "code",
      "metadata": {
        "id": "yJXXfyNxnp5e",
        "colab_type": "code",
        "outputId": "14749473-39bc-40a4-f59f-c3ce646acda7",
        "colab": {
          "base_uri": "https://localhost:8080/",
          "height": 35
        }
      },
      "source": [
        "d"
      ],
      "execution_count": 0,
      "outputs": [
        {
          "output_type": "execute_result",
          "data": {
            "text/plain": [
              "{'a': {'b': [1]}}"
            ]
          },
          "metadata": {
            "tags": []
          },
          "execution_count": 13
        }
      ]
    },
    {
      "cell_type": "code",
      "metadata": {
        "id": "XsLOVVFVnrSf",
        "colab_type": "code",
        "outputId": "dee50382-6d4f-4eb6-9b10-1577285b032f",
        "colab": {
          "base_uri": "https://localhost:8080/",
          "height": 134
        }
      },
      "source": [
        "if (crowd > 500) == True:\n",
        "  return \"Crowded\"\n",
        "elif (crowd < 5) == True:\n",
        "  return \"Empty\"\n",
        "else:\n",
        "  return \"Okay\""
      ],
      "execution_count": 0,
      "outputs": [
        {
          "output_type": "error",
          "ename": "SyntaxError",
          "evalue": "ignored",
          "traceback": [
            "\u001b[0;36m  File \u001b[0;32m\"<ipython-input-1-68c0831546c8>\"\u001b[0;36m, line \u001b[0;32m2\u001b[0m\n\u001b[0;31m    return \"Crowded\"\u001b[0m\n\u001b[0m    ^\u001b[0m\n\u001b[0;31mSyntaxError\u001b[0m\u001b[0;31m:\u001b[0m 'return' outside function\n"
          ]
        }
      ]
    },
    {
      "cell_type": "code",
      "metadata": {
        "id": "FRwYX7mZkpo9",
        "colab_type": "code",
        "outputId": "787e5785-b8c2-452c-a137-75f7d21b1ca0",
        "colab": {
          "base_uri": "https://localhost:8080/",
          "height": 134
        }
      },
      "source": [
        "crowd = 100\n",
        "if crowd > 500:\n",
        "  return \"Croweded\""
      ],
      "execution_count": 0,
      "outputs": [
        {
          "output_type": "error",
          "ename": "SyntaxError",
          "evalue": "ignored",
          "traceback": [
            "\u001b[0;36m  File \u001b[0;32m\"<ipython-input-4-292427ad09fe>\"\u001b[0;36m, line \u001b[0;32m3\u001b[0m\n\u001b[0;31m    return \"Croweded\"\u001b[0m\n\u001b[0m    ^\u001b[0m\n\u001b[0;31mSyntaxError\u001b[0m\u001b[0;31m:\u001b[0m 'return' outside function\n"
          ]
        }
      ]
    },
    {
      "cell_type": "code",
      "metadata": {
        "id": "x91QZsl6lCAf",
        "colab_type": "code",
        "colab": {}
      },
      "source": [
        "late = False\n",
        "if late:\n",
        "  print(\"Om Sairam\")"
      ],
      "execution_count": 0,
      "outputs": []
    },
    {
      "cell_type": "code",
      "metadata": {
        "id": "_-XoVzVdlwUe",
        "colab_type": "code",
        "outputId": "02389093-eaf2-465c-bd88-22249ce538b0",
        "colab": {
          "base_uri": "https://localhost:8080/",
          "height": 35
        }
      },
      "source": [
        "income = 15000\n",
        "if income < 10000:\n",
        "  tax_coefficient = 0.0 #1\n",
        "elif income < 30000:\n",
        "  tax_coefficient = 0.2 #2\n",
        "elif income < 100000:\n",
        "  tax_coefficient = 0.35 #3\n",
        "else:\n",
        "  tax_coefficient = 0.45 #4\n",
        "\n",
        "print('I will pay:', income * tax_coefficient, 'in taxes')"
      ],
      "execution_count": 0,
      "outputs": [
        {
          "output_type": "stream",
          "text": [
            "I will pay: 3000.0 in taxes\n"
          ],
          "name": "stdout"
        }
      ]
    },
    {
      "cell_type": "code",
      "metadata": {
        "id": "01UxPOramDH_",
        "colab_type": "code",
        "outputId": "14402532-a0e4-4136-fc81-9cc6ca5a1f18",
        "colab": {
          "base_uri": "https://localhost:8080/",
          "height": 35
        }
      },
      "source": [
        "order_total = 247 \n",
        "discount = 25 if order_total > 100 else 0\n",
        "print(order_total, discount)"
      ],
      "execution_count": 0,
      "outputs": [
        {
          "output_type": "stream",
          "text": [
            "247 25\n"
          ],
          "name": "stdout"
        }
      ]
    },
    {
      "cell_type": "code",
      "metadata": {
        "id": "H-wPXNT7odns",
        "colab_type": "code",
        "outputId": "ce84029f-d9db-47d5-c4aa-4030e21437f5",
        "colab": {
          "base_uri": "https://localhost:8080/",
          "height": 107
        }
      },
      "source": [
        "for number in [0,1,2,3,4]:\n",
        "  print(number)"
      ],
      "execution_count": 0,
      "outputs": [
        {
          "output_type": "stream",
          "text": [
            "0\n",
            "1\n",
            "2\n",
            "3\n",
            "4\n"
          ],
          "name": "stdout"
        }
      ]
    },
    {
      "cell_type": "code",
      "metadata": {
        "id": "WA541Fhlpwl_",
        "colab_type": "code",
        "outputId": "8682f73d-199c-43b8-a245-2de98573de51",
        "colab": {
          "base_uri": "https://localhost:8080/",
          "height": 107
        }
      },
      "source": [
        "for i in range(5):\n",
        "  print(i)"
      ],
      "execution_count": 0,
      "outputs": [
        {
          "output_type": "stream",
          "text": [
            "0\n",
            "1\n",
            "2\n",
            "3\n",
            "4\n"
          ],
          "name": "stdout"
        }
      ]
    },
    {
      "cell_type": "code",
      "metadata": {
        "id": "h-yrpMr8p_-S",
        "colab_type": "code",
        "outputId": "c818930d-091b-439b-c814-6265a17dbb66",
        "colab": {
          "base_uri": "https://localhost:8080/",
          "height": 71
        }
      },
      "source": [
        "surnames = ['Rivest', 'Shamir', 'Adleman']\n",
        "for position, surname in enumerate(surnames):\n",
        "  print(position, surname)"
      ],
      "execution_count": 0,
      "outputs": [
        {
          "output_type": "stream",
          "text": [
            "0 Rivest\n",
            "1 Shamir\n",
            "2 Adleman\n"
          ],
          "name": "stdout"
        }
      ]
    },
    {
      "cell_type": "code",
      "metadata": {
        "id": "IBpr3ZGXqh9b",
        "colab_type": "code",
        "outputId": "be91bced-6f2f-4cbb-bf3c-d2e832c8a498",
        "colab": {
          "base_uri": "https://localhost:8080/",
          "height": 89
        }
      },
      "source": [
        "people = ['Jonas', 'Julio', 'Mike', 'Mez']\n",
        "ages = [25, 30, 31, 39]\n",
        "for position, person in enumerate(people):\n",
        "  age = ages[position]\n",
        "  print(person, age)"
      ],
      "execution_count": 0,
      "outputs": [
        {
          "output_type": "stream",
          "text": [
            "Jonas 25\n",
            "Julio 30\n",
            "Mike 31\n",
            "Mez 39\n"
          ],
          "name": "stdout"
        }
      ]
    },
    {
      "cell_type": "code",
      "metadata": {
        "id": "jBFyrL4js4BS",
        "colab_type": "code",
        "outputId": "6f53ae54-9623-464c-a3e3-624a39f9dc70",
        "colab": {
          "base_uri": "https://localhost:8080/",
          "height": 179
        }
      },
      "source": [
        "n = 1\n",
        "while n < 10:\n",
        "  print(n)\n",
        "  n = n + 1\n",
        "  "
      ],
      "execution_count": 0,
      "outputs": [
        {
          "output_type": "stream",
          "text": [
            "1\n",
            "2\n",
            "3\n",
            "4\n",
            "5\n",
            "6\n",
            "7\n",
            "8\n",
            "9\n"
          ],
          "name": "stdout"
        }
      ]
    },
    {
      "cell_type": "code",
      "metadata": {
        "id": "b_8et-ffu2oD",
        "colab_type": "code",
        "colab": {}
      },
      "source": [
        "#Functions\n",
        "#Input Parameters\n",
        "#Argument passing is nothing more than assigning an object to a local variable name\n",
        "#Assigning an object to an argument name inside a function doesn't affect the caller\n",
        "#Changing a mutable object argument in a function affects the caller\n",
        "\n",
        "\n",
        "#Simple Fnction\n",
        "def func(a,b,c):\n",
        "  print(a,b,c)\n",
        "\n",
        "func(1,2,3)\n"
      ],
      "execution_count": 0,
      "outputs": []
    },
    {
      "cell_type": "code",
      "metadata": {
        "id": "yTWZazxdS7Fe",
        "colab_type": "code",
        "colab": {}
      },
      "source": [
        "#another way to specify input parameters\n",
        "def func(a,b,c):\n",
        "  print(a,b,c)\n",
        "\n",
        "func(a=1,c=2,b=3)"
      ],
      "execution_count": 0,
      "outputs": []
    },
    {
      "cell_type": "code",
      "metadata": {
        "id": "WMdYsxTfTMiO",
        "colab_type": "code",
        "colab": {}
      },
      "source": [
        "func(c=3,a=1,b=11)"
      ],
      "execution_count": 0,
      "outputs": []
    },
    {
      "cell_type": "code",
      "metadata": {
        "id": "ydgfjJGlTR8d",
        "colab_type": "code",
        "colab": {}
      },
      "source": [
        "def func(a,b=44,c=23):\n",
        "  print(a,b,c)\n",
        "\n",
        "func(11)"
      ],
      "execution_count": 0,
      "outputs": []
    },
    {
      "cell_type": "code",
      "metadata": {
        "id": "uCPdxvXfThrf",
        "colab_type": "code",
        "colab": {}
      },
      "source": [
        "#function with variable posistiona parameters\n",
        "def func(*n):\n",
        "  print(n)\n",
        "  if n:\n",
        "    minimum = n[0] # assign minimum as the first element\n",
        "    for value in n[1:]:\n",
        "      if value < minimum:\n",
        "        minimum = value\n",
        "    print(minimum)\n",
        "\n",
        "func(1,3,-7,9)"
      ],
      "execution_count": 0,
      "outputs": []
    },
    {
      "cell_type": "code",
      "metadata": {
        "id": "yU9tZSD9Vi-o",
        "colab_type": "code",
        "colab": {}
      },
      "source": [
        "func()"
      ],
      "execution_count": 0,
      "outputs": []
    },
    {
      "cell_type": "code",
      "metadata": {
        "id": "lj3ITs-KVq1N",
        "colab_type": "code",
        "colab": {}
      },
      "source": [
        "#could do the same with number of variable parameter also\n",
        "\"\"\"csdvc\"\"\"\n"
      ],
      "execution_count": 0,
      "outputs": []
    },
    {
      "cell_type": "code",
      "metadata": {
        "id": "VgOmIqMNp6R1",
        "colab_type": "code",
        "colab": {}
      },
      "source": [
        "\"\"\"map(function, iterable, ...) returns an iterator that applies function to every item of iterable, yielding the results. If additional iterable arguments are\n",
        "passed, function must take that many arguments and is applied to the items from all iterables in parallel. With multiple iterables, the iterator stops when the shortest\n",
        "iterable is exhausted.\"\"\""
      ],
      "execution_count": 0,
      "outputs": []
    },
    {
      "cell_type": "code",
      "metadata": {
        "id": "xjSDiNVkJpYL",
        "colab_type": "code",
        "colab": {}
      },
      "source": [
        "#map without a list will just five you the address of the iterable\n",
        "map(lambda *a: a, range(3))"
      ],
      "execution_count": 0,
      "outputs": []
    },
    {
      "cell_type": "code",
      "metadata": {
        "id": "alABVnCtKj90",
        "colab_type": "code",
        "colab": {}
      },
      "source": [
        "#as map returns a tuple, you need to wrap it with a list every time\n",
        "list(map(lambda *a: a, range(3)))"
      ],
      "execution_count": 0,
      "outputs": []
    },
    {
      "cell_type": "code",
      "metadata": {
        "id": "OtDhoiRvKvdA",
        "colab_type": "code",
        "colab": {}
      },
      "source": [
        "list(map(lambda *a: a, range(3), 'abc'))"
      ],
      "execution_count": 0,
      "outputs": []
    },
    {
      "cell_type": "code",
      "metadata": {
        "id": "9S5QNphHLPfg",
        "colab_type": "code",
        "colab": {}
      },
      "source": [
        "list(map(lambda *a: a, range(3), 'abc', range(6,9)))"
      ],
      "execution_count": 0,
      "outputs": []
    },
    {
      "cell_type": "code",
      "metadata": {
        "id": "zJr8o-X4LnRc",
        "colab_type": "code",
        "colab": {}
      },
      "source": [
        "students = [\n",
        "dict(id=0, credits=dict(math=9, physics=6, history=7)),\n",
        "dict(id=1, credits=dict(math=9, physics=6, latin=9)),\n",
        "dict(id=2, credits=dict(history=8, physics=9, chemistry=10)),\n",
        "dict(id=3, credits=dict(math=5, physics=5, geography=7)),\n",
        "]\n",
        "def decorate(student):\n",
        "# create a 2-tuple (sum of credits, student) from student dict\n",
        "  return (sum(student['credits'].values()), student)\n",
        "def undecorate(decorated_student):\n",
        "# discard sum of credits, return original student dict\n",
        "  return decorated_student[1]\n",
        "students = sorted(map(decorate, students), reverse=True)\n",
        "students = list(map(undecorate, students))"
      ],
      "execution_count": 0,
      "outputs": []
    },
    {
      "cell_type": "code",
      "metadata": {
        "id": "8YaQJEsMOd0h",
        "colab_type": "code",
        "colab": {}
      },
      "source": [
        "students"
      ],
      "execution_count": 0,
      "outputs": []
    },
    {
      "cell_type": "code",
      "metadata": {
        "id": "57V-o5lTOgHx",
        "colab_type": "code",
        "colab": {}
      },
      "source": [
        "'''zip(*iterables) returns an iterator of tuples, where the i-th tuple contains the\n",
        "i-th element from each of the argument sequences or iterables. The iterator stops\n",
        "when the shortest input iterable is exhausted. With a single iterable argument, it\n",
        "returns an iterator of 1-tuples. With no arguments, it returns an empty iterator.'''"
      ],
      "execution_count": 0,
      "outputs": []
    },
    {
      "cell_type": "code",
      "metadata": {
        "id": "__CeDOXxPI28",
        "colab_type": "code",
        "colab": {}
      },
      "source": [
        "grades = [18, 23, 30, 27, 15, 9, 22]\n",
        "avgs = [22, 21, 29, 24, 18, 18, 24]\n",
        "list(zip(avgs,grades))"
      ],
      "execution_count": 0,
      "outputs": []
    },
    {
      "cell_type": "code",
      "metadata": {
        "id": "YnZJCsOEPuwQ",
        "colab_type": "code",
        "colab": {}
      },
      "source": [
        "#same result can be obtained in map as well\n",
        "list(map(lambda *a: a, avgs, grades))"
      ],
      "execution_count": 0,
      "outputs": []
    },
    {
      "cell_type": "code",
      "metadata": {
        "id": "4h3cU8uhP4dE",
        "colab_type": "code",
        "colab": {}
      },
      "source": [
        "#suppose if you have a sequence of rows and you want to find the maximum or minimum in each of the rows for each columns then this function is very useful\n",
        "a = [5,7,9,11,34]\n",
        "b = [23,4,7,1,3]\n",
        "c = [9,7,1,6,8]\n",
        "maxs = list(map(lambda *a: max(*a), zip(a,b,c)))"
      ],
      "execution_count": 0,
      "outputs": []
    },
    {
      "cell_type": "code",
      "metadata": {
        "id": "eXKXbgvUQnoa",
        "colab_type": "code",
        "colab": {}
      },
      "source": [
        "maxs"
      ],
      "execution_count": 0,
      "outputs": []
    },
    {
      "cell_type": "code",
      "metadata": {
        "id": "lgsbk_o1Qttc",
        "colab_type": "code",
        "colab": {}
      },
      "source": [
        "'''filter(function, iterable) construct an iterator from those elements of iterable for which function returns True. iterable may be either a sequence, a\n",
        "container which supports iteration, or an iterator. If function is None, the identity function is assumed, that is, all elements of iterable that are false are removed.'''"
      ],
      "execution_count": 0,
      "outputs": []
    },
    {
      "cell_type": "code",
      "metadata": {
        "id": "s75tK9m7bE75",
        "colab_type": "code",
        "colab": {}
      },
      "source": [
        "eight = 8\n",
        "test = [1,3,5,5,5,6,6,6,8,8,8,0,0,0]\n",
        "list(filter(None,test))"
      ],
      "execution_count": 0,
      "outputs": []
    },
    {
      "cell_type": "code",
      "metadata": {
        "id": "cIurmCL2bRvp",
        "colab_type": "code",
        "colab": {
          "base_uri": "https://localhost:8080/",
          "height": 35
        },
        "outputId": "2a162f45-e72b-4958-c38f-ce91516a9a0d"
      },
      "source": [
        "list(filter(lambda x: x, test))"
      ],
      "execution_count": 31,
      "outputs": [
        {
          "output_type": "execute_result",
          "data": {
            "text/plain": [
              "[1, 3, 5, 5, 5, 6, 6, 6, 8, 8, 8]"
            ]
          },
          "metadata": {
            "tags": []
          },
          "execution_count": 31
        }
      ]
    },
    {
      "cell_type": "code",
      "metadata": {
        "id": "K2RBHGf-b_EX",
        "colab_type": "code",
        "colab": {
          "base_uri": "https://localhost:8080/",
          "height": 35
        },
        "outputId": "3abd888d-15f1-4e50-9829-c1a50ddf6fd4"
      },
      "source": [
        "list(filter(lambda x: x > 4, test))"
      ],
      "execution_count": 32,
      "outputs": [
        {
          "output_type": "execute_result",
          "data": {
            "text/plain": [
              "[5, 5, 5, 6, 6, 6, 8, 8, 8]"
            ]
          },
          "metadata": {
            "tags": []
          },
          "execution_count": 32
        }
      ]
    },
    {
      "cell_type": "code",
      "metadata": {
        "id": "ChnYHYkWcMEt",
        "colab_type": "code",
        "colab": {
          "base_uri": "https://localhost:8080/",
          "height": 35
        },
        "outputId": "abd3d109-7bc7-4316-c1e5-75251d4ddd49"
      },
      "source": [
        "list(filter(lambda x: x > 4, test))"
      ],
      "execution_count": 34,
      "outputs": [
        {
          "output_type": "execute_result",
          "data": {
            "text/plain": [
              "[5, 5, 5, 6, 6, 6, 8, 8, 8]"
            ]
          },
          "metadata": {
            "tags": []
          },
          "execution_count": 34
        }
      ]
    },
    {
      "cell_type": "code",
      "metadata": {
        "id": "A23gEM4jcRj8",
        "colab_type": "code",
        "colab": {
          "base_uri": "https://localhost:8080/",
          "height": 35
        },
        "outputId": "0fe5cb2c-df7d-499f-e694-bd4a7c0c8bf4"
      },
      "source": [
        "list(filter(lambda x: x > 4, test))"
      ],
      "execution_count": 37,
      "outputs": [
        {
          "output_type": "execute_result",
          "data": {
            "text/plain": [
              "[5, 5, 5, 6, 6, 6, 8, 8, 8]"
            ]
          },
          "metadata": {
            "tags": []
          },
          "execution_count": 37
        }
      ]
    },
    {
      "cell_type": "code",
      "metadata": {
        "id": "xIli1kwFcjgu",
        "colab_type": "code",
        "colab": {}
      },
      "source": [
        "#compherensions - List, Dict and Set compherensions\n",
        "#ist Up it is List Compherension - the art of putting the for and if loops into square brackets\n",
        "squares = []\n",
        "for n in range(10):\n",
        "  squares.append(n ** 2)\n",
        "squares"
      ],
      "execution_count": 0,
      "outputs": []
    },
    {
      "cell_type": "code",
      "metadata": {
        "id": "0cKVcJh7eONk",
        "colab_type": "code",
        "colab": {}
      },
      "source": [
        "square1 = list(map(lambda n: n ** 2, range(10)))"
      ],
      "execution_count": 0,
      "outputs": []
    },
    {
      "cell_type": "code",
      "metadata": {
        "id": "WSkLpK3bebPe",
        "colab_type": "code",
        "colab": {}
      },
      "source": [
        "square1"
      ],
      "execution_count": 0,
      "outputs": []
    },
    {
      "cell_type": "code",
      "metadata": {
        "id": "RlHDjhLledDp",
        "colab_type": "code",
        "colab": {}
      },
      "source": [
        "sqaure2 = []\n",
        "sqaure2 = [n ** 2 for n in range(10)]\n",
        "sqaure2"
      ],
      "execution_count": 0,
      "outputs": []
    },
    {
      "cell_type": "code",
      "metadata": {
        "id": "4sWT4egdexS8",
        "colab_type": "code",
        "colab": {}
      },
      "source": [
        "even = list(filter(lambda n: not n % 2, map(lambda n: n ** 2, range(10))))\n",
        "even\n",
        "even1 = [n ** 2 for n in range(10) if not n % 2]\n",
        "even1\n",
        "print(even == even1)"
      ],
      "execution_count": 0,
      "outputs": []
    },
    {
      "cell_type": "code",
      "metadata": {
        "id": "-7k6mUVogr5t",
        "colab_type": "code",
        "colab": {}
      },
      "source": [
        "#2nd up is the dict compherension\n",
        "from string import ascii_lowercase\n",
        "kisi = dict((c,k) for k, c in enumerate(ascii_lowercase,1))\n",
        "kisi\n",
        "pisi = {c: k for k, c in enumerate(ascii_lowercase,1)}\n",
        "print(kisi == pisi)"
      ],
      "execution_count": 0,
      "outputs": []
    },
    {
      "cell_type": "code",
      "metadata": {
        "id": "Do5ozCt0k8tu",
        "colab_type": "code",
        "colab": {}
      },
      "source": [
        "word = 'Helloorrppss'\n",
        "swaps = {c: c.swapcase() for c in word}\n",
        "swaps"
      ],
      "execution_count": 0,
      "outputs": []
    },
    {
      "cell_type": "code",
      "metadata": {
        "id": "VfSBpuqPmmEj",
        "colab_type": "code",
        "colab": {}
      },
      "source": [
        "#and finally SET compherensions very similar to dict compherensions\n",
        "word = 'Hello'\n",
        "letters1 = set(c for c in word)\n",
        "letters2 = {c for c in word}\n",
        "print(letters1) # prints: {'l', 'o', 'H', 'e'}\n",
        "print(letters1 == letters2) # prints: True"
      ],
      "execution_count": 0,
      "outputs": []
    },
    {
      "cell_type": "code",
      "metadata": {
        "id": "xkDEiNj9n5VP",
        "colab_type": "code",
        "colab": {}
      },
      "source": [
        "#Generator Expressions - instead of sqaure or curly brackets use will use open brackets\n",
        "#key thing to remember is once you iterate you will exhaust the list and you cannot go back to the list again\n",
        "num = (n ** 2 for n in range(10))\n",
        "num"
      ],
      "execution_count": 0,
      "outputs": []
    },
    {
      "cell_type": "code",
      "metadata": {
        "id": "uAdfU7jupVsq",
        "colab_type": "code",
        "colab": {
          "base_uri": "https://localhost:8080/",
          "height": 53
        },
        "outputId": "df7c20b1-9839-4982-c042-c73752920775"
      },
      "source": [
        "print(list(num))\n",
        "list(num)"
      ],
      "execution_count": 75,
      "outputs": [
        {
          "output_type": "stream",
          "text": [
            "[0, 1, 4, 9, 16, 25, 36, 49, 64, 81]\n"
          ],
          "name": "stdout"
        },
        {
          "output_type": "execute_result",
          "data": {
            "text/plain": [
              "[]"
            ]
          },
          "metadata": {
            "tags": []
          },
          "execution_count": 75
        }
      ]
    },
    {
      "cell_type": "code",
      "metadata": {
        "id": "QxbEpx2GpasD",
        "colab_type": "code",
        "colab": {}
      },
      "source": [
        "def adder(*n):\n",
        "  return sum(n)\n",
        "sum1 = sum(map(lambda n: adder(*n), zip(range(100), range(1, 101))))\n",
        "sum2 = sum(adder(*n) for n in zip(range(100), range(1, 101)))\n",
        "print(sum1 == sum2)"
      ],
      "execution_count": 0,
      "outputs": []
    },
    {
      "cell_type": "code",
      "metadata": {
        "id": "Ra9zW_d5pcCX",
        "colab_type": "code",
        "colab": {
          "base_uri": "https://localhost:8080/",
          "height": 35
        },
        "outputId": "f7b8dabd-b9de-44df-a1aa-05423e5fe691"
      },
      "source": [
        "#simple time check budy\n",
        "from time import time\n",
        "mx = 10000\n",
        "t= time()\n",
        "xloop = []\n",
        "for a in range(1,mx):\n",
        "  for b in range(a,mx):\n",
        "    xloop.append(divmod(a,b))\n",
        "print('for loop: {:.4f} s'.format(time() - t)) # elapsed time"
      ],
      "execution_count": 87,
      "outputs": [
        {
          "output_type": "stream",
          "text": [
            "for loop: 20.7409 s\n"
          ],
          "name": "stdout"
        }
      ]
    },
    {
      "cell_type": "code",
      "metadata": {
        "id": "UgzUjrC-pcyA",
        "colab_type": "code",
        "colab": {
          "base_uri": "https://localhost:8080/",
          "height": 35
        },
        "outputId": "6500e405-a059-41b0-b617-4a11a067c82e"
      },
      "source": [
        "t= time()\n",
        "xloop = [divmod(a,b) for a in range (1,mx) for b in range (a,mx)]\n",
        "print('for loop: {:.4f} s'.format(time() - t)) # elapsed time"
      ],
      "execution_count": 88,
      "outputs": [
        {
          "output_type": "stream",
          "text": [
            "for loop: 18.5546 s\n"
          ],
          "name": "stdout"
        }
      ]
    },
    {
      "cell_type": "code",
      "metadata": {
        "id": "vqEzh3Nfwpbu",
        "colab_type": "code",
        "colab": {
          "base_uri": "https://localhost:8080/",
          "height": 35
        },
        "outputId": "0e42a1f3-457b-452c-c60c-8e15cf2b9d43"
      },
      "source": [
        "t = time()\n",
        "xloop = list(divmod(a,b) for a in range (1,mx) for b in range(a,mx))\n",
        "print('for loop: {:.4f} s'.format(time() - t)) # elapsed time"
      ],
      "execution_count": 90,
      "outputs": [
        {
          "output_type": "stream",
          "text": [
            "for loop: 12.1493 s\n"
          ],
          "name": "stdout"
        }
      ]
    },
    {
      "cell_type": "code",
      "metadata": {
        "id": "7TuEwl4bw9yu",
        "colab_type": "code",
        "colab": {}
      },
      "source": [
        ""
      ],
      "execution_count": 0,
      "outputs": []
    }
  ]
}